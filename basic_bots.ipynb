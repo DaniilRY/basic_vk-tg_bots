{
  "nbformat": 4,
  "nbformat_minor": 0,
  "metadata": {
    "colab": {
      "provenance": [],
      "authorship_tag": "ABX9TyN2fKJXIND+FXzZyI32ahc9",
      "include_colab_link": true
    },
    "kernelspec": {
      "name": "python3",
      "display_name": "Python 3"
    },
    "language_info": {
      "name": "python"
    }
  },
  "cells": [
    {
      "cell_type": "markdown",
      "metadata": {
        "id": "view-in-github",
        "colab_type": "text"
      },
      "source": [
        "<a href=\"https://colab.research.google.com/github/DaniilRY/basic_vk-tg_bots/blob/main/basic_bots.ipynb\" target=\"_parent\"><img src=\"https://colab.research.google.com/assets/colab-badge.svg\" alt=\"Open In Colab\"/></a>"
      ]
    },
    {
      "cell_type": "markdown",
      "source": [
        "Для инициализации проекта требуется установить зависимости ниже"
      ],
      "metadata": {
        "id": "H5SY7TljzhwN"
      }
    },
    {
      "cell_type": "code",
      "source": [
        "pip install aiogram"
      ],
      "metadata": {
        "id": "fB5vNnUnzAsD"
      },
      "execution_count": null,
      "outputs": []
    },
    {
      "cell_type": "code",
      "source": [
        "pip install vkbottle"
      ],
      "metadata": {
        "id": "D9kTJQzA0W7L"
      },
      "execution_count": null,
      "outputs": []
    },
    {
      "cell_type": "markdown",
      "source": [
        "Версия бота для Telegram"
      ],
      "metadata": {
        "id": "B6C_h-lKzwp-"
      }
    },
    {
      "cell_type": "code",
      "source": [
        "import logging\n",
        "from aiogram import Bot, Dispatcher, types, F\n",
        "from aiogram.filters.command import Command\n",
        "\n",
        "# Адрес для подключения кода к боту\n",
        "TOKEN = '5848267969:AAEH5pTFWyGPOGcmAXnhzk6bQjSn1J1ZsoU'\n",
        "# Префикс для ввода команд\n",
        "KEY = \"/\"\n",
        "\n",
        "logging.basicConfig(level=logging.INFO)\n",
        "\n",
        "bot = Bot(token=TOKEN)\n",
        "dp = Dispatcher()\n",
        "\n",
        "@dp.message(Command(\"start\", prefix=KEY))\n",
        "async def cmd_start(message: types.Message):\n",
        "    await message.answer(\"Приветствуем в тестовой среде Telegram бота на Google Colaboratory!\")\n",
        "\n",
        "@dp.message(F.text)\n",
        "async def any_message(message: types.Message):\n",
        "  if 'привет' in message.text.lower():\n",
        "    await message.answer(\"Привет, {}!\".format(message.from_user.first_name))\n",
        "\n",
        "async def main():\n",
        "    await dp.start_polling(bot)\n",
        "\n",
        "if __name__ == \"__main__\":\n",
        "    await main()\n",
        "\n"
      ],
      "metadata": {
        "id": "OKVhPAUXIfGr"
      },
      "execution_count": null,
      "outputs": []
    },
    {
      "cell_type": "markdown",
      "source": [
        "Версия бота для VK"
      ],
      "metadata": {
        "id": "c0oP3xZ70Azk"
      }
    },
    {
      "cell_type": "code",
      "source": [
        "from vkbottle.bot import Bot, Message\n",
        "from vkbottle.tools import DocMessagesUploader, PhotoMessageUploader\n",
        "from vkbottle_types.codegen.objects import MessagesForward\n",
        "from vkbottle import GroupEventType, GroupTypes, VKAPIError\n",
        "\n",
        "# Адрес для подключения кода к боту\n",
        "TOKEN = ''\n",
        "# Префикс для ввода команд\n",
        "KEY = '/'\n",
        "\n",
        "bot = Bot(token=TOKEN)\n",
        "\n",
        "@bot.on.message(text = KEY + 'start')\n",
        "async def cmd_start(message: Message):\n",
        "  await message.answer('Приветствуем в тестовой среде VK бота на Google Colaboratory!')\n",
        "\n",
        "@bot.on.message()\n",
        "async def any_message(message: Message):\n",
        "  users_info = await bot.api.users.get(message.from_id)\n",
        "  if 'привет' in message.text.lower():\n",
        "    await message.answer(\"Привет, {}!\".format(users_info[0].first_name))\n",
        "\n",
        "bot.run_forever()"
      ],
      "metadata": {
        "id": "5_p2GhSg0AeV"
      },
      "execution_count": null,
      "outputs": []
    }
  ]
}